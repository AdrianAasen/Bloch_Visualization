{
  "cells": [
    {
      "cell_type": "markdown",
      "metadata": {
        "id": "view-in-github",
        "colab_type": "text"
      },
      "source": [
        "<a href=\"https://colab.research.google.com/github/AdrianAasen/Bloch_Visualization/blob/main/AQT_Bloch_visualization.ipynb\" target=\"_parent\"><img src=\"https://colab.research.google.com/assets/colab-badge.svg\" alt=\"Open In Colab\"/></a>"
      ]
    },
    {
      "cell_type": "markdown",
      "id": "cb0581e6",
      "metadata": {
        "id": "cb0581e6"
      },
      "source": [
        "# Qubit state visualization\n",
        "\n",
        "AQT 2022"
      ]
    },
    {
      "cell_type": "code",
      "execution_count": null,
      "id": "6b463777",
      "metadata": {
        "id": "6b463777"
      },
      "outputs": [],
      "source": [
        "# load standard libraries\n",
        "\n",
        "import numpy as np   # standard numerics library\n",
        "\n",
        "import matplotlib.pyplot as plt   # for making plots\n",
        "!pip install qutip # To install qutip in this session\n",
        "from qutip import Bloch \n",
        "\n",
        "\n",
        "# for interactive graphics\n",
        "from ipywidgets import interactive, interact\n",
        "from ipywidgets import FloatSlider, fixed, IntSlider\n",
        "\n",
        "%matplotlib inline"
      ]
    },
    {
      "cell_type": "markdown",
      "metadata": {
        "id": "IETEOmVGdcR5"
      },
      "source": [
        "### Single qubit rotations\n",
        "\n",
        "We start by implementing common single-qubit rotation gates and visualizing their action on the Bloch sphere.\n",
        "\n",
        "#### Defining the gates\n",
        "\n",
        "- Define the Pauli gates, and the Hadamard, S and T gates and the identity gates.\n",
        "- Define a function that builds a rotation gate rotation(ax, theta) for arbitrary rotation axis ax and angle theta."
      ],
      "id": "IETEOmVGdcR5"
    },
    {
      "cell_type": "code",
      "source": [
        "# Define all common single qubit gates\n",
        "X=np.array([[0,1],[1,0]])\n",
        "Y=np.array([[0,-1j],[1j,0]])\n",
        "Z=np.array([[1,0],[0,-1]])\n",
        "H=1/np.sqrt(2)*np.array([[1,1],[1,-1]])\n",
        "S=np.array([[1,0],[0,1j]])\n",
        "T=np.array([[1,0],[0,np.exp(1j*np.pi/4)]])\n",
        "Id=np.array([[1,0],[0,1]])\n",
        "\n",
        "# Greates the rotation gate on the Bloch-sphere about axis \"ax\" by an angle \"theta\"\n",
        "def rotation(ax,theta):\n",
        "  return np.cos(theta/2)*Id -1j*np.sin(theta/2)*(ax[0]*X + ax[1]*Y +ax[2]*Z )\n",
        "\n",
        "\n",
        "# initially the spin is in the state |0>\n",
        "ini = np.array([1,0]) # spin up, north pole\n",
        "axis = np.array([1,0,0]) # rotate about x (must be normalized!)\n",
        "\n",
        "# rotate the spin and observe what happens on the Bloch sphere\n",
        "def f(phi):\n",
        "  # rotate by an angle phi \n",
        "  state = rotation(axis, phi) @ ini\n",
        "  print(f'Current qubit state {state}')\n",
        "  # calculate the spin expectation values\n",
        "  pauliExpVals = state @ [X,Y,Z] @ state.conj().T\n",
        "  print(f'Pauli expectation values {pauliExpVals}')\n",
        "  # plot a point on the sphere\n",
        "  b = Bloch()\n",
        "  b.add_points(pauliExpVals)\n",
        "  b.render()\n",
        "\n",
        "\n",
        "interact(f, phi=FloatSlider(min=0,max=np.pi,step=np.pi/20));"
      ],
      "metadata": {
        "id": "jWdG7SRLeQZW"
      },
      "id": "jWdG7SRLeQZW",
      "execution_count": null,
      "outputs": []
    },
    {
      "cell_type": "markdown",
      "metadata": {
        "id": "KfnMqQJLdcR-"
      },
      "source": [
        "### Arbitrary single qubit gate operations\n",
        "\n",
        "We generate a set of sample states, regularly spaced points on the unit circle in the x-z-plane, and apply some of the gates we defined previously. As an example we have applied some gates, (rotations, H, T, HTH, THTH...), to all of these states. Feel free to make your own 'OpList' and see what the gates does the to states on the Bloch sphere!"
      ],
      "id": "KfnMqQJLdcR-"
    },
    {
      "cell_type": "code",
      "execution_count": null,
      "metadata": {
        "scrolled": false,
        "id": "IwqteIaBdcR_"
      },
      "outputs": [],
      "source": [
        "# Define input\n",
        "nSampels=10 # The points you want in your disk\n",
        "phi=np.pi/4 # Angle to rotate\n",
        "rotationAxis=np.array([1,0,0]) # Axis about which you rotate.\n",
        "# An example of all the operations you can preform on the Bloch sphere, play around!\n",
        "OpList=np.array([rotation(axis, phi),\n",
        "                 rotation(axis, 2*phi),\n",
        "                 H,\n",
        "                 T,\n",
        "                 H@T@H,\n",
        "                 H@T@H@T,\n",
        "                 T@H@T@H@T])\n",
        "\n",
        "#List to lable the operations for the slider\n",
        "OpListText=[\"Rotation around x-axis by pi/4\",\"Rotation around x-axis by pi/2\" ,\"H\",\"T\",\"HTH\",\"HTHT\",\"THTHT\"]\n",
        "\n",
        "\n",
        "# Generate initial qubit states in the x-z plane equally spaced.\n",
        "angles=np.linspace(-np.pi,np.pi,nSampels)\n",
        "initRotationAxis=[0,1,0]\n",
        "InitState=np.zeros((len(angles),2),dtype=complex)\n",
        "for i in range(0,len(angles)):\n",
        "    InitState[i]=rotation(initRotationAxis,angles[i])@np.array([1,0])\n",
        "\n",
        "# Apply gates defined in OpList to the inital states.\n",
        "NewStates=np.zeros((len(OpList),len(InitState),2),dtype=complex)\n",
        "\n",
        "for i in range(len(OpList)):\n",
        "    for j in range(len(InitState)):\n",
        "        NewStates[i,j]=OpList[i]@InitState[j]\n",
        "\n",
        "\n",
        "# Define some functions for plotting on the Bloch sphere\n",
        "def PauliExpList(InitState): #Takes in a list of state vectors and provieds the corresponding list on the Bloch sphere\n",
        "    pauliExpX=np.zeros(len(InitState),dtype=complex)\n",
        "    pauliExpY=np.zeros(len(InitState),dtype=complex)\n",
        "    pauliExpZ=np.zeros(len(InitState),dtype=complex)\n",
        "    for i in range(len(InitState)):\n",
        "        pauliExpX[i]=InitState[i]@ X @ InitState[i].conj().T\n",
        "        pauliExpY[i]=InitState[i]@ Y @ InitState[i].conj().T\n",
        "        pauliExpZ[i]=InitState[i]@ Z @ InitState[i].conj().T\n",
        "    return [pauliExpX,pauliExpY,pauliExpZ]\n",
        "\n",
        "def blochPlotFunction(Operator,States,InitStates): #Function to compare initial state to state after applied operator\n",
        "    b2=Bloch()\n",
        "    b2.add_points(PauliExpList(InitStates))\n",
        "    print(\"Current Operator: \",OpListText[Operator])\n",
        "    b2.add_points(PauliExpList(States[Operator]))\n",
        "    b2.render()\n",
        "\n",
        "interact(blochPlotFunction, Operator=IntSlider(min=0,max=len(NewStates)-1,step=1),States=fixed(NewStates),InitStates=fixed(InitState));    \n"
      ],
      "id": "IwqteIaBdcR_"
    },
    {
      "cell_type": "code",
      "execution_count": null,
      "id": "6ec58ab4",
      "metadata": {
        "id": "6ec58ab4"
      },
      "outputs": [],
      "source": [
        ""
      ]
    }
  ],
  "metadata": {
    "kernelspec": {
      "display_name": "Python 3",
      "language": "python",
      "name": "python3"
    },
    "language_info": {
      "codemirror_mode": {
        "name": "ipython",
        "version": 3
      },
      "file_extension": ".py",
      "mimetype": "text/x-python",
      "name": "python",
      "nbconvert_exporter": "python",
      "pygments_lexer": "ipython3",
      "version": "3.8.8"
    },
    "colab": {
      "name": "AQT - Bloch visualization.ipynb",
      "provenance": [],
      "collapsed_sections": [],
      "include_colab_link": true
    }
  },
  "nbformat": 4,
  "nbformat_minor": 5
}